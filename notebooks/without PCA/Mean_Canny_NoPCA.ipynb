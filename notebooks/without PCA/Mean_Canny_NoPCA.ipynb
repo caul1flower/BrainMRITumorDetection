{
  "nbformat": 4,
  "nbformat_minor": 0,
  "metadata": {
    "colab": {
      "provenance": []
    },
    "kernelspec": {
      "name": "python3",
      "display_name": "Python 3"
    },
    "language_info": {
      "name": "python"
    }
  },
  "cells": [
    {
      "cell_type": "code",
      "source": [
        "#importing libraries\n",
        "import os\n",
        "import sys \n",
        "import cv2 as cv\n",
        "import numpy as np\n",
        "import plotly.io as pio\n",
        "import ipywidgets as widget\n",
        "import plotly.graph_objs as go\n",
        "import matplotlib.pyplot as plt\n",
        "\n",
        "\n",
        "from PIL import Image\n",
        "from skimage import color\n",
        "from plotly import subplots\n",
        "from random import randrange\n",
        "from google.colab.patches import cv2_imshow\n",
        "from sklearn.model_selection import train_test_split\n",
        "from sklearn.metrics import mean_squared_error as mse\n",
        "from ipywidgets import interact, interactive, fixed, interact_manual\n",
        "\n",
        "from sklearn.neighbors import KNeighborsClassifier\n",
        "from sklearn.metrics import accuracy_score,confusion_matrix\n",
        "\n",
        "import cv2 as cv\n",
        "import math\n",
        "\n",
        "import seaborn as sns\n",
        "import matplotlib.pyplot as plt\n",
        "\n",
        "# #setting the rederer as colab\n",
        "# pio.renderers.default = \"colab\""
      ],
      "metadata": {
        "id": "JDCFUuWiQj4h"
      },
      "execution_count": null,
      "outputs": []
    },
    {
      "cell_type": "code",
      "execution_count": null,
      "metadata": {
        "id": "PsCAiODCOwnX"
      },
      "outputs": [],
      "source": [
        "# path to images\n",
        "\n",
        "def input_images(path):\n",
        "\n",
        "  X = []\n",
        "  X_flat = []\n",
        "\n",
        "  size = 64\n",
        "\n",
        "  # iterate through images\n",
        "  for img in os.listdir(path):\n",
        "\n",
        "      # read and grayscale image\n",
        "      img_array = cv.imread(os.path.join(path, img), cv.IMREAD_GRAYSCALE)\n",
        "      \n",
        "      # form matrix of an image\n",
        "      img_pil = Image.fromarray(img_array)\n",
        "\n",
        "      # resize image\n",
        "      img_64x64 = np.array(img_pil.resize((size, size)))\n",
        "\n",
        "      X.append(img_64x64)\n",
        "\n",
        "      # flatten the image\n",
        "      img_array = img_64x64.flatten()\n",
        "\n",
        "      X_flat.append(img_array)\n",
        "\n",
        "  # convert to numpy array\n",
        "  X_flat = np.asarray(X_flat)\n",
        "\n",
        "  # images as columns\n",
        "  X_flat = X_flat.T\n",
        "\n",
        "  return X, X_flat"
      ]
    },
    {
      "cell_type": "code",
      "source": [
        "path_class_yes = \"brain_tumor_dataset/yes/\"\n",
        "path_class_no = \"brain_tumor_dataset/no/\"\n"
      ],
      "metadata": {
        "id": "NMdLphBuQhDC"
      },
      "execution_count": null,
      "outputs": []
    },
    {
      "cell_type": "code",
      "source": [
        "def mean_filter(img, kernel_size=(3, 3)):\n",
        "  img_mean = cv.blur(img, kernel_size)\n",
        "  return img_mean"
      ],
      "metadata": {
        "id": "FgOcgQABWF2F"
      },
      "execution_count": null,
      "outputs": []
    },
    {
      "cell_type": "code",
      "source": [
        "def canny_detector(img, threshold_lower=100, threshold_upper=200):\n",
        "  img_canny = cv.Canny(img,threshold_lower,threshold_upper)\n",
        "  return img_canny"
      ],
      "metadata": {
        "id": "Eqh7FXtkWYEe"
      },
      "execution_count": null,
      "outputs": []
    },
    {
      "cell_type": "code",
      "source": [
        "def image_preprocessing(path_class_yes, path_class_no):\n",
        "\n",
        "  X_yes, X_flat_yes = input_images(path_class_yes)\n",
        "  X_no, X_flat_no = input_images(path_class_no)\n",
        "\n",
        "  X_flat_yes = X_flat_yes.T\n",
        "  X_flat_no = X_flat_no.T\n",
        "\n",
        "  X_train_yes = X_flat_yes[:60].T\n",
        "  X_test_yes = X_flat_yes[60:].T\n",
        "  X_train_no = X_flat_no[:60].T\n",
        "  X_test_no = X_flat_no[60:].T\n",
        "\n",
        "  # combine classes\n",
        "  X_flat_yes_no_train = np.concatenate((X_train_yes.T, X_train_no.T)).T\n",
        "  X_flat_yes_no_test = np.concatenate((X_test_yes.T, X_test_no.T)).T\n",
        "\n",
        "  y_train = np.concatenate((np.ones(60), np.zeros(60)))\n",
        "  y_test = np.concatenate((np.ones(155-60), np.zeros(98-60))) \n",
        "\n",
        "  # apply filters\n",
        "  mean_filter_applied = mean_filter(X_flat_yes_no_train)\n",
        "  mean_filter_applied_test = mean_filter(X_flat_yes_no_test)\n",
        "\n",
        "  # apply edge detectors\n",
        "  canny_edge_detector_applies = canny_detector(mean_filter_applied)\n",
        "  canny_edge_detector_applies_test = canny_detector(mean_filter_applied_test)\n",
        "\n",
        "  processed_train = canny_edge_detector_applies\n",
        "  processed_test = canny_edge_detector_applies_test\n",
        "\n",
        "  clf = KNeighborsClassifier()\n",
        "    \n",
        "  clf.fit(processed_train.T,y_train)\n",
        "\n",
        "  y_pred = clf.predict(processed_test.T)\n",
        "  \n",
        "  print(\"Accuracy of KNN is %{}\".format(accuracy_score(y_pred=y_pred,y_true=y_test)*100))\n",
        "    \n",
        "  confmatrix = confusion_matrix(y_pred=y_pred,y_true=y_test)\n",
        "    \n",
        "  plt.subplots(figsize=(6,6))\n",
        "  sns.heatmap(confmatrix,annot=True,fmt=\".1f\",linewidths=1.5)\n",
        "\n",
        "image_preprocessing(path_class_yes, path_class_no)\n"
      ],
      "metadata": {
        "id": "oKT-2DshwzaS",
        "colab": {
          "base_uri": "https://localhost:8080/",
          "height": 539
        },
        "outputId": "728a7488-be5a-4bb2-f485-d1c99552a00f"
      },
      "execution_count": null,
      "outputs": [
        {
          "output_type": "stream",
          "name": "stdout",
          "text": [
            "Accuracy of KNN is %34.58646616541353\n"
          ]
        },
        {
          "output_type": "display_data",
          "data": {
            "text/plain": [
              "<Figure size 600x600 with 2 Axes>"
            ],
            "image/png": "[encoded data removed]"
          },
          "metadata": {}
        }
      ]
    }
  ]
}