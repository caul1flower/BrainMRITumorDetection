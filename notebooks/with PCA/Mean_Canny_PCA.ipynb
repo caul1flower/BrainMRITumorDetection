{
  "nbformat": 4,
  "nbformat_minor": 0,
  "metadata": {
    "colab": {
      "provenance": []
    },
    "kernelspec": {
      "name": "python3",
      "display_name": "Python 3"
    },
    "language_info": {
      "name": "python"
    }
  },
  "cells": [
    {
      "cell_type": "code",
      "source": [
        "#importing libraries\n",
        "import os\n",
        "import sys \n",
        "import cv2 as cv\n",
        "import numpy as np\n",
        "import plotly.io as pio\n",
        "import ipywidgets as widget\n",
        "import plotly.graph_objs as go\n",
        "import matplotlib.pyplot as plt\n",
        "\n",
        "\n",
        "from PIL import Image\n",
        "from skimage import color\n",
        "from plotly import subplots\n",
        "from random import randrange\n",
        "from google.colab.patches import cv2_imshow\n",
        "from sklearn.model_selection import train_test_split\n",
        "from sklearn.metrics import mean_squared_error as mse\n",
        "from ipywidgets import interact, interactive, fixed, interact_manual\n",
        "\n",
        "from sklearn.neighbors import KNeighborsClassifier\n",
        "from sklearn.metrics import accuracy_score,confusion_matrix\n",
        "\n",
        "import cv2 as cv\n",
        "import math\n",
        "\n",
        "import seaborn as sns\n",
        "import matplotlib.pyplot as plt\n",
        "\n",
        "# #setting the rederer as colab\n",
        "# pio.renderers.default = \"colab\""
      ],
      "metadata": {
        "id": "JDCFUuWiQj4h"
      },
      "execution_count": null,
      "outputs": []
    },
    {
      "cell_type": "code",
      "execution_count": null,
      "metadata": {
        "id": "PsCAiODCOwnX"
      },
      "outputs": [],
      "source": [
        "# path to images\n",
        "\n",
        "def input_images(path):\n",
        "\n",
        "  X = []\n",
        "  X_flat = []\n",
        "\n",
        "  size = 64\n",
        "\n",
        "  # iterate through images\n",
        "  for img in os.listdir(path):\n",
        "\n",
        "      # read and grayscale image\n",
        "      img_array = cv.imread(os.path.join(path, img), cv.IMREAD_GRAYSCALE)\n",
        "      \n",
        "      # form matrix of an image\n",
        "      img_pil = Image.fromarray(img_array)\n",
        "\n",
        "      # resize image\n",
        "      img_64x64 = np.array(img_pil.resize((size, size)))\n",
        "\n",
        "      X.append(img_64x64)\n",
        "\n",
        "      # flatten the image\n",
        "      img_array = img_64x64.flatten()\n",
        "\n",
        "      X_flat.append(img_array)\n",
        "\n",
        "  # convert to numpy array\n",
        "  X_flat = np.asarray(X_flat)\n",
        "\n",
        "  # images as columns\n",
        "  X_flat = X_flat.T\n",
        "\n",
        "  return X, X_flat"
      ]
    },
    {
      "cell_type": "code",
      "source": [
        "path_class_yes = \"brain_tumor_dataset/yes/\"\n",
        "path_class_no = \"brain_tumor_dataset/no/\"\n"
      ],
      "metadata": {
        "id": "NMdLphBuQhDC"
      },
      "execution_count": null,
      "outputs": []
    },
    {
      "cell_type": "code",
      "source": [
        "def mean_filter(img, kernel_size=(3, 3)):\n",
        "  img_mean = cv.blur(img, kernel_size)\n",
        "  return img_mean"
      ],
      "metadata": {
        "id": "FgOcgQABWF2F"
      },
      "execution_count": null,
      "outputs": []
    },
    {
      "cell_type": "code",
      "source": [
        "def canny_detector(img, threshold_lower=100, threshold_upper=200):\n",
        "  img_canny = cv.Canny(img,threshold_lower,threshold_upper)\n",
        "  return img_canny"
      ],
      "metadata": {
        "id": "Eqh7FXtkWYEe"
      },
      "execution_count": null,
      "outputs": []
    },
    {
      "cell_type": "code",
      "source": [
        "def hough_transform(img, canny_threshold_lower=100, canny_threshold_upper=200, rho=1, theta=np.pi / 180, threshold_hough=150):\n",
        "  new_img = []\n",
        "  for image in img:\n",
        "    cdst = image\n",
        "    \n",
        "    # 1 - The resolution of the parameter r in pixels. We use 1 pixel.\n",
        "    # np.pi / 180 - The resolution of the parameter θ in radians. We use 1 degree (CV_PI/180)\n",
        "    # 150 - The minimum number of intersections to \"*detect*\" a line\n",
        "    lines = cv.HoughLines(image, rho, theta, threshold_hough, None, 0, 0)\n",
        "    if lines is not None:\n",
        "          for i in range(0, len(lines)):\n",
        "              rho = lines[i][0][0]\n",
        "              theta = lines[i][0][1]\n",
        "              a = math.cos(theta)\n",
        "              b = math.sin(theta)\n",
        "              x0 = a * rho\n",
        "              y0 = b * rho\n",
        "              pt1 = (int(x0 + 1000*(-b)), int(y0 + 1000*(a)))\n",
        "              pt2 = (int(x0 - 1000*(-b)), int(y0 - 1000*(a)))\n",
        "              cv.line(cdst, pt1, pt2, (0,0,255), 3, cv.LINE_AA)\n",
        "    new_img.append(cdst)\n",
        "  return new_img"
      ],
      "metadata": {
        "id": "YUJuuqUFRVoX"
      },
      "execution_count": null,
      "outputs": []
    },
    {
      "cell_type": "code",
      "source": [
        "def standardize(X):\n",
        "    \"\"\"\n",
        "    The standardize function standardizes the input matrix X \n",
        "    by subtracting the mean of each column and dividing by the standard deviation.\n",
        "    \n",
        "    Returns the standardized matrix X_stand, mean (mu) \n",
        "    and standard deviation (std) values used in the standardization process.\n",
        "    \"\"\"\n",
        "\n",
        "    # calcualte the mean of each respective column   \n",
        "    mu = np.mean(X, axis = 0)\n",
        "\n",
        "    # calcualte the standard deviation of each column\n",
        "    std = np.std(X, axis = 0)  \n",
        "    \n",
        "    # substract the mean from X\n",
        "    X = X - mu   \n",
        "    \n",
        "    # handle zero std case (cannot divide by zero)\n",
        "    std_filled = std.copy()\n",
        "    std_filled[std == 0] = 1\n",
        "    \n",
        "    #calculate standardized X\n",
        "    X_stand = (X - mu) / std_filled\n",
        "    \n",
        "    return X_stand, mu, std"
      ],
      "metadata": {
        "id": "l0ziH1qwWhSQ"
      },
      "execution_count": null,
      "outputs": []
    },
    {
      "cell_type": "code",
      "source": [
        "def eigen(X):\n",
        "    \"\"\"\n",
        "    The eigen function finds the eigenvalues and eigenvectors of input matrix X \n",
        "    using build-in function of numpy.\n",
        "    \n",
        "    Returns eigenvalues (EV) and eigenvectors (EVc) of input matrix X, sorted in\n",
        "    descending order.\n",
        "    \"\"\"\n",
        "  \n",
        "    #calculate the eigen values and eigen vectors\n",
        "    EV, EVc = np.linalg.eigh(X)  \n",
        "\n",
        "    # order of eigenvalues (bigger to smaller)\n",
        "    order = np.argsort(-EV)\n",
        "\n",
        "    # order the EV's\n",
        "    EV = EV[order]\n",
        "\n",
        "    # construct matrix of eigenvectors\n",
        "    EVc = EVc[:, order]\n",
        "    \n",
        "    return EV, EVc"
      ],
      "metadata": {
        "id": "V4YjxdWoXgFK"
      },
      "execution_count": null,
      "outputs": []
    },
    {
      "cell_type": "code",
      "source": [
        "\n",
        "def PCA(X, num_components):\n",
        "\n",
        "    # calculate the data covariance matrix S\n",
        "    # S = 1 / (len(X) - 1) * np.matmul(X, X.T)\n",
        "    S = np.cov(X)\n",
        "    \n",
        "    # eigenvalues and corresponding eigenvectors for S\n",
        "    eig_vals, eig_vecs = eigen(S)\n",
        "    \n",
        "    # select eigen vectors\n",
        "    U = eig_vecs[:, range(num_components)]\n",
        "    \n",
        "    # find the projection_matrix which projects our input data onto the vector space spanned by the eigenvectors\n",
        "    P = np.matmul(U, U.T)\n",
        "    \n",
        "    return P"
      ],
      "metadata": {
        "id": "zXi_nAkBXhzn"
      },
      "execution_count": null,
      "outputs": []
    },
    {
      "cell_type": "code",
      "source": [
        "def image_preprocessing(path_class_yes, path_class_no):\n",
        "\n",
        "  X_yes, X_flat_yes = input_images(path_class_yes)\n",
        "  X_no, X_flat_no = input_images(path_class_no)\n",
        "\n",
        "  X_flat_yes = X_flat_yes.T\n",
        "  X_flat_no = X_flat_no.T\n",
        "\n",
        "  X_train_yes = X_flat_yes[:60].T\n",
        "  X_test_yes = X_flat_yes[60:].T\n",
        "  X_train_no = X_flat_no[:60].T\n",
        "  X_test_no = X_flat_no[60:].T\n",
        "\n",
        "  # combine classes\n",
        "  X_flat_yes_no_train = np.concatenate((X_train_yes.T, X_train_no.T)).T\n",
        "  X_flat_yes_no_test = np.concatenate((X_test_yes.T, X_test_no.T)).T\n",
        "\n",
        "  y_train = np.concatenate((np.ones(60), np.zeros(60)))\n",
        "  y_test = np.concatenate((np.ones(155-60), np.zeros(98-60))) \n",
        "\n",
        "  # apply filters\n",
        "  mean_filter_applied = mean_filter(X_flat_yes_no_train)\n",
        "  mean_filter_applied_test = mean_filter(X_flat_yes_no_test)\n",
        "\n",
        "  # apply edge detectors\n",
        "  canny_edge_detector_applies = canny_detector(mean_filter_applied)\n",
        "  canny_edge_detector_applies_test = canny_detector(mean_filter_applied_test)\n",
        "\n",
        "  # PCA part\n",
        "  X_train, mu_train, std_train = standardize(canny_edge_detector_applies)\n",
        "  X_test, mu_test, std_test = standardize(canny_edge_detector_applies_test)\n",
        "\n",
        "  def pca_apply(X_t, X_f):\n",
        "\n",
        "    loss = []\n",
        "\n",
        "    reconstructions = []\n",
        "\n",
        "    max_components = len(np.array(X_f).T)\n",
        "\n",
        "    for num_component in range(1, max_components + 1):\n",
        " \n",
        "        projection = PCA(X_t.T, num_component)\n",
        "\n",
        "        y_transform = np.matmul(X_t, projection)\n",
        "\n",
        "        error = mse(y_transform, X_f)\n",
        "\n",
        "        reconstructions.append(y_transform)\n",
        "\n",
        "        loss.append((num_component, error))\n",
        "\n",
        "    #unstandardizing the reconstructed images\n",
        "    reconstructions = np.asarray(reconstructions)\n",
        "    loss = np.asarray(loss)\n",
        "\n",
        "    yes_reconst = reconstructions[100, : , :]\n",
        "    yes_reconst = yes_reconst\n",
        "  \n",
        "    return yes_reconst\n",
        "\n",
        "  processed_train = pca_apply(X_train, X_flat_yes_no_train)\n",
        "  processed_test = pca_apply(X_test, X_flat_yes_no_test)\n",
        "\n",
        "  clf = KNeighborsClassifier()\n",
        "    \n",
        "  clf.fit(processed_train.T,y_train)\n",
        "\n",
        "  y_pred = clf.predict(processed_test.T)\n",
        "  \n",
        "  print(\"Accuracy of KNN is %{}\".format(accuracy_score(y_pred=y_pred,y_true=y_test)*100))\n",
        "    \n",
        "  confmatrix = confusion_matrix(y_pred=y_pred,y_true=y_test)\n",
        "    \n",
        "  plt.subplots(figsize=(6,6))\n",
        "  sns.heatmap(confmatrix,annot=True,fmt=\".1f\",linewidths=1.5)\n",
        "\n",
        "image_preprocessing(path_class_yes, path_class_no)\n"
      ],
      "metadata": {
        "id": "oKT-2DshwzaS",
        "colab": {
          "base_uri": "https://localhost:8080/",
          "height": 539
        },
        "outputId": "6a55f14e-9729-4d6d-be6a-ee50ab2a6345"
      },
      "execution_count": null,
      "outputs": [
        {
          "output_type": "stream",
          "name": "stdout",
          "text": [
            "Accuracy of KNN is %58.64661654135338\n"
          ]
        },
        {
          "output_type": "display_data",
          "data": {
            "text/plain": [
              "<Figure size 600x600 with 2 Axes>"
            ],
            "image/png": "[encoded data removed]"
          },
          "metadata": {}
        }
      ]
    }
  ]
}